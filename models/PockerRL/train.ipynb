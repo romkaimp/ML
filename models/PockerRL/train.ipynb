{
 "cells": [
  {
   "cell_type": "code",
   "id": "initial_id",
   "metadata": {
    "collapsed": true,
    "ExecuteTime": {
     "end_time": "2025-03-28T19:03:22.631108Z",
     "start_time": "2025-03-28T19:03:21.388128Z"
    }
   },
   "source": [
    "import numpy as np\n",
    "import torch\n",
    "import torch.nn as nn\n",
    "from torch.nn.utils import clip_grad_norm_\n",
    "import torch.optim as optim\n",
    "from torch.utils.data import DataLoader, TensorDataset, random_split\n",
    "from Environment import PokerGame, PokerHandEvaluator\n",
    "from copy import deepcopy\n",
    "import optuna"
   ],
   "outputs": [
    {
     "name": "stderr",
     "output_type": "stream",
     "text": [
      "D:\\PyCharmPrj\\ML\\.venv\\Lib\\site-packages\\tqdm\\auto.py:21: TqdmWarning: IProgress not found. Please update jupyter and ipywidgets. See https://ipywidgets.readthedocs.io/en/stable/user_install.html\n",
      "  from .autonotebook import tqdm as notebook_tqdm\n"
     ]
    }
   ],
   "execution_count": 1
  },
  {
   "metadata": {},
   "cell_type": "markdown",
   "source": "### Data mining",
   "id": "423d7ad50ac59969"
  },
  {
   "metadata": {
    "ExecuteTime": {
     "end_time": "2025-03-28T19:03:29.787232Z",
     "start_time": "2025-03-28T19:03:29.777121Z"
    }
   },
   "cell_type": "code",
   "source": [
    "iters = 8\n",
    "names = {0: '2', 1: '3', 2: '4', 3: '5', 4: '6', 5: '7', 6: '8', 7: '9', 8: '10', 9: \"jack\", 10: \"queen\", 11: \"king\", 12: \"ace\"}\n",
    "rounds = 3\n",
    "init_cards = 2\n",
    "flop_size = 3\n",
    "players = 4\n",
    "game = PokerGame(52, 4, num_cards=init_cards, flop_size=flop_size, num_players=players, rounds=rounds, names=names)\n",
    "\n",
    "answers = []\n",
    "hands = []\n",
    "for i in range(iters):\n",
    "    game.start_new_game()\n",
    "    history = game.get_history()\n",
    "\n",
    "    max_len = 0\n",
    "    for round in range(rounds):\n",
    "        for player in range(players):\n",
    "\n",
    "            ans = np.zeros(2)\n",
    "            if player in history[\"winner\"]:\n",
    "                ans[0] = 1\n",
    "            else:\n",
    "                ans[1] = 1\n",
    "\n",
    "            answers.append(ans.copy())\n",
    "            hands.append(np.array(history[\"history\"][round].get_state()[player]))\n",
    "            max_len = max(max_len, len(history[\"history\"][round].get_state()[player]))\n",
    "\n",
    "hands = np.array(hands, dtype=np.ndarray)\n",
    "answers = np.array(answers)"
   ],
   "id": "dc9b97d15e8f0810",
   "outputs": [],
   "execution_count": 2
  },
  {
   "metadata": {
    "ExecuteTime": {
     "end_time": "2025-03-28T19:03:31.704832Z",
     "start_time": "2025-03-28T19:03:31.699974Z"
    }
   },
   "cell_type": "code",
   "source": [
    "x = []\n",
    "y_train = torch.from_numpy(answers).float()\n",
    "for i in range(len(hands)):\n",
    "    x.append(hands[i].tolist())\n",
    "padding_length = max(len(seq) for seq in x)\n",
    "\n",
    "# Делаем padding вручную, добавив 0 в конце каждого списка\n",
    "padded_data = [[[0, 0, 0, 0, 0, 0]] * (padding_length - len(seq)) + seq for seq in x]\n",
    "x_train = torch.tensor(padded_data).float()"
   ],
   "id": "856e2ebebb22d7b0",
   "outputs": [],
   "execution_count": 3
  },
  {
   "metadata": {},
   "cell_type": "markdown",
   "source": "### Model",
   "id": "87a6ac5fb82af450"
  },
  {
   "metadata": {
    "ExecuteTime": {
     "end_time": "2025-03-28T19:07:52.086291Z",
     "start_time": "2025-03-28T19:07:52.082277Z"
    }
   },
   "cell_type": "code",
   "source": [
    "class GRUApproximator(nn.Module):\n",
    "    def __init__(self, input_size, hidden_size, num_layers, output_length=2, dropout=0.1):\n",
    "        super().__init__()\n",
    "        self.hidden_size = hidden_size\n",
    "        self.num_layers = num_layers\n",
    "\n",
    "        self.gru = nn.GRU(\n",
    "            input_size,\n",
    "            hidden_size,\n",
    "            num_layers,\n",
    "            batch_first=True,\n",
    "            dropout=dropout,\n",
    "            bidirectional=True\n",
    "        )\n",
    "        self.layer_norm = nn.LayerNorm(hidden_size * 2)  # Учитываем bidirectional (2 * hidden_size)\n",
    "        self.fc1 = nn.Linear(2 * hidden_size, hidden_size)\n",
    "        self.fc2 = nn.Linear(hidden_size, output_length)\n",
    "        self.dropout = nn.Dropout(dropout)\n",
    "        self.activation = nn.Tanh()\n",
    "        self.act2 = nn.Softmax()\n",
    "\n",
    "    def forward(self, x):\n",
    "        batch_size, _, _ = x.size()\n",
    "        # Initialize hidden state\n",
    "        hidden_vec = torch.zeros(\n",
    "            (self.num_layers * 2, batch_size, self.hidden_size)\n",
    "        ).to(x.device)\n",
    "\n",
    "        # GRU forward\n",
    "        output, _ = self.gru(x, hidden_vec)\n",
    "        output = output[:, -1, :]\n",
    "\n",
    "        # Apply LayerNorm to output\n",
    "        output = self.layer_norm(output)\n",
    "\n",
    "        # Pass through fully connected layers\n",
    "        y = self.dropout(self.activation(self.fc1(output)))\n",
    "        y = self.act2(self.dropout(self.fc2(y)))\n",
    "\n",
    "        return y\n"
   ],
   "id": "83dea537277abe32",
   "outputs": [],
   "execution_count": 5
  },
  {
   "metadata": {},
   "cell_type": "markdown",
   "source": "### Training",
   "id": "6a045ec1dfa2431a"
  },
  {
   "metadata": {
    "ExecuteTime": {
     "end_time": "2025-03-28T17:55:03.523481Z",
     "start_time": "2025-03-28T17:55:03.519394Z"
    }
   },
   "cell_type": "code",
   "source": [
    "def objective(trial, x_train, y_train):\n",
    "\n",
    "    hidden_size = trial.suggest_int(\"hidden_size\", 32, 256)\n",
    "    num_layers = trial.suggest_int(\"num_layers\", 2, 4)\n",
    "    dropout = trial.suggest_float(\"dropout\", 0.0, 0.5)\n",
    "\n",
    "    learning_rate = trial.suggest_float(\"learning_rate\", 1e-5, 1e-2, log=True)\n",
    "\n",
    "    model = GRUApproximator(input_size=6, hidden_size=hidden_size, num_layers=num_layers,\n",
    "                     dropout=dropout)\n",
    "\n",
    "    criterion = nn.CrossEntropyLoss()\n",
    "    optimizer = optim.Adam(model.parameters(), lr=learning_rate)\n",
    "\n",
    "    model.to(device)\n",
    "\n",
    "    dataset = TensorDataset(x_train, y_train)\n",
    "    train_size = int(0.8 * len(dataset))\n",
    "    val_size = len(dataset) - train_size\n",
    "    train_dataset, val_dataset = random_split(dataset, [train_size, val_size])\n",
    "\n",
    "    train_loader = DataLoader(train_dataset, batch_size=128, shuffle=True)\n",
    "    val_loader = DataLoader(val_dataset, batch_size=128, shuffle=False)\n",
    "\n",
    "    model.train()\n",
    "\n",
    "    for epoch in range(3):\n",
    "        model.train()\n",
    "        for x_batch, y_batch in train_loader:\n",
    "            optimizer.zero_grad()\n",
    "\n",
    "            y_pred = model(x_batch.to(device))\n",
    "\n",
    "            loss = criterion(y_pred, y_batch.to(device))\n",
    "            loss.backward()\n",
    "            clip_grad_norm_(model.parameters(), 2)\n",
    "            optimizer.step()\n",
    "\n",
    "    model.eval()\n",
    "    val_loss = 0\n",
    "    with torch.no_grad():\n",
    "        for batch in val_loader:\n",
    "            inputs, targets = batch\n",
    "            outputs = model(inputs.to(device))\n",
    "            loss = criterion(outputs, targets.to(device))\n",
    "            val_loss += loss.item()\n",
    "\n",
    "    # Сохранение модели, если текущая лучше предыдущих:\n",
    "    val_loss_avg = val_loss / len(val_loader)\n",
    "\n",
    "    return val_loss_avg\n"
   ],
   "id": "aa18d42e29ffe724",
   "outputs": [],
   "execution_count": 11
  },
  {
   "metadata": {
    "ExecuteTime": {
     "end_time": "2025-03-28T18:07:53.932387Z",
     "start_time": "2025-03-28T17:55:03.548836Z"
    }
   },
   "cell_type": "code",
   "source": [
    "study = optuna.create_study(direction=\"minimize\")\n",
    "\n",
    "device = torch.device('cuda' if torch.cuda.is_available() else 'cpu')\n",
    "study.optimize(lambda trial: objective(trial, x_train, y_train), n_trials=25)\n",
    "\n",
    "print(\"Лучшие параметры:\", study.best_params)"
   ],
   "id": "6840ee648d720241",
   "outputs": [
    {
     "name": "stderr",
     "output_type": "stream",
     "text": [
      "[I 2025-03-28 20:55:03,549] A new study created in memory with name: no-name-a946ea6a-20d2-4a99-a97c-c910d02c161f\n",
      "[I 2025-03-28 20:55:37,498] Trial 0 finished with value: 0.6618940387314898 and parameters: {'hidden_size': 185, 'num_layers': 2, 'dropout': 0.024273867223072343, 'learning_rate': 0.002341907226133483}. Best is trial 0 with value: 0.6618940387314898.\n",
      "[I 2025-03-28 20:56:03,229] Trial 1 finished with value: 0.6399228682362936 and parameters: {'hidden_size': 39, 'num_layers': 3, 'dropout': 0.016952099786626762, 'learning_rate': 0.00014368414909713277}. Best is trial 1 with value: 0.6399228682362936.\n",
      "[I 2025-03-28 20:56:29,321] Trial 2 finished with value: 0.6407926816281264 and parameters: {'hidden_size': 50, 'num_layers': 3, 'dropout': 0.009991916978159376, 'learning_rate': 0.00017956570375960272}. Best is trial 1 with value: 0.6399228682362936.\n",
      "[I 2025-03-28 20:56:55,341] Trial 3 finished with value: 0.6506899887953347 and parameters: {'hidden_size': 56, 'num_layers': 3, 'dropout': 0.1712067440130357, 'learning_rate': 2.9793992381241006e-05}. Best is trial 1 with value: 0.6399228682362936.\n",
      "[I 2025-03-28 20:57:30,317] Trial 4 finished with value: 0.6295255266553987 and parameters: {'hidden_size': 188, 'num_layers': 2, 'dropout': 0.028589570880750037, 'learning_rate': 0.00029788041904316187}. Best is trial 4 with value: 0.6295255266553987.\n",
      "[I 2025-03-28 20:58:02,222] Trial 5 finished with value: 0.6476596703374289 and parameters: {'hidden_size': 52, 'num_layers': 4, 'dropout': 0.15611364967596947, 'learning_rate': 5.553968223681925e-05}. Best is trial 4 with value: 0.6295255266553987.\n",
      "[I 2025-03-28 20:58:40,772] Trial 6 finished with value: 0.6389274274430624 and parameters: {'hidden_size': 132, 'num_layers': 4, 'dropout': 0.0801784454384169, 'learning_rate': 0.00017990629508337608}. Best is trial 4 with value: 0.6295255266553987.\n",
      "[I 2025-03-28 20:59:20,512] Trial 7 finished with value: 0.6773047040148479 and parameters: {'hidden_size': 181, 'num_layers': 3, 'dropout': 0.37756118545673795, 'learning_rate': 0.006979709528466108}. Best is trial 4 with value: 0.6295255266553987.\n",
      "[I 2025-03-28 20:59:55,382] Trial 8 finished with value: 0.6230525210620911 and parameters: {'hidden_size': 156, 'num_layers': 3, 'dropout': 0.1040164927454248, 'learning_rate': 0.0006396673841694601}. Best is trial 8 with value: 0.6230525210620911.\n",
      "[I 2025-03-28 21:00:20,862] Trial 9 finished with value: 0.6524482038932118 and parameters: {'hidden_size': 92, 'num_layers': 2, 'dropout': 0.22116312200297805, 'learning_rate': 2.7590054119663878e-05}. Best is trial 8 with value: 0.6230525210620911.\n",
      "[I 2025-03-28 21:00:59,674] Trial 10 finished with value: 0.6565025535056261 and parameters: {'hidden_size': 254, 'num_layers': 4, 'dropout': 0.3401883375391763, 'learning_rate': 0.0017838247460317054}. Best is trial 8 with value: 0.6230525210620911.\n",
      "[I 2025-03-28 21:01:25,942] Trial 11 finished with value: 0.6243503584125177 and parameters: {'hidden_size': 194, 'num_layers': 2, 'dropout': 0.12733278635780176, 'learning_rate': 0.0007536264193972974}. Best is trial 8 with value: 0.6230525210620911.\n",
      "[I 2025-03-28 21:01:52,305] Trial 12 finished with value: 0.6568136802533778 and parameters: {'hidden_size': 238, 'num_layers': 2, 'dropout': 0.4997072717462677, 'learning_rate': 0.0012788856687906756}. Best is trial 8 with value: 0.6230525210620911.\n",
      "[I 2025-03-28 21:02:21,538] Trial 13 finished with value: 0.6229048302503136 and parameters: {'hidden_size': 134, 'num_layers': 2, 'dropout': 0.11713998871447007, 'learning_rate': 0.0006931035176943864}. Best is trial 13 with value: 0.6229048302503136.\n",
      "[I 2025-03-28 21:02:52,690] Trial 14 finished with value: 0.6386088854898282 and parameters: {'hidden_size': 125, 'num_layers': 3, 'dropout': 0.25013880542847444, 'learning_rate': 0.0005335976081210328}. Best is trial 13 with value: 0.6229048302503136.\n",
      "[I 2025-03-28 21:03:15,758] Trial 15 finished with value: 0.6598714316763529 and parameters: {'hidden_size': 100, 'num_layers': 2, 'dropout': 0.10628907147442512, 'learning_rate': 0.005974867345610301}. Best is trial 13 with value: 0.6229048302503136.\n",
      "[I 2025-03-28 21:03:51,820] Trial 16 finished with value: 0.6533123222793021 and parameters: {'hidden_size': 151, 'num_layers': 4, 'dropout': 0.23184400108258152, 'learning_rate': 1.0513821627850392e-05}. Best is trial 13 with value: 0.6229048302503136.\n",
      "[I 2025-03-28 21:04:22,880] Trial 17 finished with value: 0.6346479662065584 and parameters: {'hidden_size': 146, 'num_layers': 3, 'dropout': 0.3133276958787648, 'learning_rate': 0.0006144007065194669}. Best is trial 13 with value: 0.6229048302503136.\n",
      "[I 2025-03-28 21:04:48,753] Trial 18 finished with value: 0.6346190894522318 and parameters: {'hidden_size': 93, 'num_layers': 2, 'dropout': 0.0915706625358883, 'learning_rate': 0.0037638485583585983}. Best is trial 13 with value: 0.6229048302503136.\n",
      "[I 2025-03-28 21:05:22,331] Trial 19 finished with value: 0.6578253524090216 and parameters: {'hidden_size': 215, 'num_layers': 3, 'dropout': 0.18475535137284982, 'learning_rate': 0.0011176653804949213}. Best is trial 13 with value: 0.6229048302503136.\n",
      "[I 2025-03-28 21:05:59,540] Trial 20 finished with value: 0.6402016211331375 and parameters: {'hidden_size': 167, 'num_layers': 3, 'dropout': 0.07134986137597985, 'learning_rate': 8.373871739660309e-05}. Best is trial 13 with value: 0.6229048302503136.\n",
      "[I 2025-03-28 21:06:27,479] Trial 21 finished with value: 0.6255128410773548 and parameters: {'hidden_size': 209, 'num_layers': 2, 'dropout': 0.12870762514471065, 'learning_rate': 0.0005944126828815029}. Best is trial 13 with value: 0.6229048302503136.\n",
      "[I 2025-03-28 21:06:53,525] Trial 22 finished with value: 0.635419122862622 and parameters: {'hidden_size': 114, 'num_layers': 2, 'dropout': 0.13517229864572106, 'learning_rate': 0.000382566411008153}. Best is trial 13 with value: 0.6229048302503136.\n",
      "[I 2025-03-28 21:07:24,920] Trial 23 finished with value: 0.6258033283357698 and parameters: {'hidden_size': 162, 'num_layers': 2, 'dropout': 0.19805566326916363, 'learning_rate': 0.0008507763113474088}. Best is trial 13 with value: 0.6229048302503136.\n",
      "[I 2025-03-28 21:07:53,929] Trial 24 finished with value: 0.6347574348372172 and parameters: {'hidden_size': 211, 'num_layers': 2, 'dropout': 0.27411435818608887, 'learning_rate': 0.000314109925047353}. Best is trial 13 with value: 0.6229048302503136.\n"
     ]
    },
    {
     "name": "stdout",
     "output_type": "stream",
     "text": [
      "Лучшие параметры: {'hidden_size': 134, 'num_layers': 2, 'dropout': 0.11713998871447007, 'learning_rate': 0.0006931035176943864}\n"
     ]
    }
   ],
   "execution_count": 12
  },
  {
   "metadata": {
    "ExecuteTime": {
     "end_time": "2025-03-28T18:19:55.131163Z",
     "start_time": "2025-03-28T18:14:29.739336Z"
    }
   },
   "cell_type": "code",
   "source": [
    "# Лучшие параметры: {'hidden_size': 134, 'num_layers': 2, 'dropout': 0.11713998871447007, 'learning_rate': 0.0006931035176943864}\n",
    "hidden_size = 134 # study.best_params[\"hidden_size\"]\n",
    "num_layers = 2 # study.best_params[\"num_layers\"]\n",
    "dropout = 0.11713998871447007 # study.best_params[\"dropout\"]\n",
    "learning_rate = 0.0006931035176943864 # study.best_params[\"learning_rate\"]\n",
    "\n",
    "model = GRUApproximator(input_size=6, hidden_size=hidden_size, num_layers=num_layers,\n",
    "                     dropout=dropout)\n",
    "\n",
    "criterion = nn.CrossEntropyLoss()\n",
    "optimizer = optim.Adam(model.parameters(), lr=learning_rate)\n",
    "\n",
    "model.to(device)\n",
    "\n",
    "train_dataset = TensorDataset(x_train, y_train)\n",
    "\n",
    "train_loader = DataLoader(train_dataset, batch_size=128, shuffle=True)\n",
    "\n",
    "model.train()\n",
    "\n",
    "total_loss = 0\n",
    "for epoch in range(30):\n",
    "    model.train()\n",
    "    for x_batch, y_batch in train_loader:\n",
    "        optimizer.zero_grad()\n",
    "\n",
    "        y_pred = model(x_batch.to(device))\n",
    "\n",
    "        loss = criterion(y_pred, y_batch.to(device))\n",
    "        loss.backward()\n",
    "        clip_grad_norm_(model.parameters(), 2)\n",
    "        optimizer.step()\n",
    "        total_loss += loss.item()\n",
    "    print(\"epoch:\", epoch, \"loss:\", loss.item())\n",
    "\n",
    "total_loss_avg = total_loss / len(train_loader)\n",
    "\n",
    "torch.save(model.state_dict(), f\"best_model_trial_{total_loss_avg}.pth\")"
   ],
   "id": "cf39e2f15e3136ff",
   "outputs": [
    {
     "name": "stdout",
     "output_type": "stream",
     "text": [
      "epoch: 0 loss: 0.6390072703361511\n",
      "epoch: 1 loss: 0.6359899640083313\n",
      "epoch: 2 loss: 0.6602068543434143\n",
      "epoch: 3 loss: 0.5893398523330688\n",
      "epoch: 4 loss: 0.6088787913322449\n",
      "epoch: 5 loss: 0.5687258243560791\n",
      "epoch: 6 loss: 0.5635789632797241\n",
      "epoch: 7 loss: 0.605431079864502\n",
      "epoch: 8 loss: 0.5566391348838806\n",
      "epoch: 9 loss: 0.5563504099845886\n",
      "epoch: 10 loss: 0.5482103824615479\n",
      "epoch: 11 loss: 0.5331912636756897\n",
      "epoch: 12 loss: 0.5218848586082458\n",
      "epoch: 13 loss: 0.5396378636360168\n",
      "epoch: 14 loss: 0.5580545663833618\n",
      "epoch: 15 loss: 0.5273128747940063\n",
      "epoch: 16 loss: 0.5179847478866577\n",
      "epoch: 17 loss: 0.5153135061264038\n",
      "epoch: 18 loss: 0.5260172486305237\n",
      "epoch: 19 loss: 0.49683091044425964\n",
      "epoch: 20 loss: 0.5444058179855347\n",
      "epoch: 21 loss: 0.4735460877418518\n",
      "epoch: 22 loss: 0.48961353302001953\n",
      "epoch: 23 loss: 0.5178319811820984\n",
      "epoch: 24 loss: 0.49323779344558716\n",
      "epoch: 25 loss: 0.5382354855537415\n",
      "epoch: 26 loss: 0.5215072631835938\n",
      "epoch: 27 loss: 0.49264270067214966\n",
      "epoch: 28 loss: 0.5318944454193115\n",
      "epoch: 29 loss: 0.46727877855300903\n"
     ]
    }
   ],
   "execution_count": 15
  },
  {
   "metadata": {},
   "cell_type": "markdown",
   "source": "### Evaluating",
   "id": "28996abb630216c8"
  },
  {
   "metadata": {
    "ExecuteTime": {
     "end_time": "2025-03-28T19:09:20.651011Z",
     "start_time": "2025-03-28T19:09:20.627747Z"
    }
   },
   "cell_type": "code",
   "source": [
    "hidden_size = 134 # study.best_params[\"hidden_size\"]\n",
    "num_layers = 2 # study.best_params[\"num_layers\"]\n",
    "dropout = 0.11713998871447007 # study.best_params[\"dropout\"]\n",
    "learning_rate = 0.0006931035176943864 # study.best_params[\"learning_rate\"]\n",
    "\n",
    "model = GRUApproximator(input_size=6, hidden_size=hidden_size, num_layers=num_layers,\n",
    "                     dropout=dropout)\n",
    "\n",
    "state_dict = torch.load('best_model_trial_16.349365157046122.pth')\n",
    "\n",
    "# Загрузка весов в модель\n",
    "device = torch.device('cuda' if torch.cuda.is_available() else 'cpu')\n",
    "model.load_state_dict(state_dict)\n",
    "model.to(device)"
   ],
   "id": "7008981564e7df40",
   "outputs": [
    {
     "data": {
      "text/plain": [
       "GRUApproximator(\n",
       "  (gru): GRU(6, 134, num_layers=2, batch_first=True, dropout=0.11713998871447007, bidirectional=True)\n",
       "  (layer_norm): LayerNorm((268,), eps=1e-05, elementwise_affine=True)\n",
       "  (fc1): Linear(in_features=268, out_features=134, bias=True)\n",
       "  (fc2): Linear(in_features=134, out_features=2, bias=True)\n",
       "  (dropout): Dropout(p=0.11713998871447007, inplace=False)\n",
       "  (activation): Tanh()\n",
       "  (act2): Softmax(dim=None)\n",
       ")"
      ]
     },
     "execution_count": 11,
     "metadata": {},
     "output_type": "execute_result"
    }
   ],
   "execution_count": 11
  },
  {
   "metadata": {
    "ExecuteTime": {
     "end_time": "2025-03-28T19:10:03.003889Z",
     "start_time": "2025-03-28T19:10:02.887979Z"
    }
   },
   "cell_type": "code",
   "source": [
    "model.eval()\n",
    "with torch.no_grad():\n",
    "    for j in range(rounds):\n",
    "        print(\"round:\", j + 1)\n",
    "        for i in range(players):\n",
    "\n",
    "            print(\"Player:\", i + 1)\n",
    "            x = x_train[j*players + i].to(device).unsqueeze(0)\n",
    "\n",
    "            print(\"Cards:\")\n",
    "            print(game.convert_cards(hands[j*players + i]))\n",
    "            hand1 = PokerHandEvaluator(hands[j*players + i], 52, 4)\n",
    "            print(hand1.get_hand_rank())\n",
    "\n",
    "            print(\"True val:\", y_train[j*players + i])\n",
    "            y_pred = model(x)\n",
    "            print(\"Pred val:\", y_pred)"
   ],
   "id": "1342aa8cea677732",
   "outputs": [
    {
     "name": "stdout",
     "output_type": "stream",
     "text": [
      "round: 1\n",
      "Player: 1\n",
      "Cards:\n",
      "[{'power': '3', 'type': 2}, {'power': '7', 'type': 0}, {'power': 'ace', 'type': 3}, {'power': '5', 'type': 0}, {'power': '7', 'type': 2}]\n",
      "PokerHand.ONE_PAIR\n",
      "True val: tensor([1., 0.])\n",
      "Pred val: tensor([[0.9924, 0.0076]], device='cuda:0')\n",
      "Player: 2\n",
      "Cards:\n",
      "[{'power': '3', 'type': 1}, {'power': '8', 'type': 1}, {'power': 'ace', 'type': 3}, {'power': '5', 'type': 0}, {'power': '7', 'type': 2}]\n",
      "PokerHand.HIGH_CARD\n",
      "True val: tensor([0., 1.])\n",
      "Pred val: tensor([[9.8937e-09, 1.0000e+00]], device='cuda:0')\n",
      "Player: 3\n",
      "Cards:\n",
      "[{'power': '5', 'type': 3}, {'power': '4', 'type': 3}, {'power': 'ace', 'type': 3}, {'power': '5', 'type': 0}, {'power': '7', 'type': 2}]\n",
      "PokerHand.ONE_PAIR\n",
      "True val: tensor([1., 0.])\n",
      "Pred val: tensor([[9.9998e-01, 1.6139e-05]], device='cuda:0')\n",
      "Player: 4\n",
      "Cards:\n",
      "[{'power': '3', 'type': 0}, {'power': '10', 'type': 3}, {'power': 'ace', 'type': 3}, {'power': '5', 'type': 0}, {'power': '7', 'type': 2}]\n",
      "PokerHand.HIGH_CARD\n",
      "True val: tensor([1., 0.])\n",
      "Pred val: tensor([[0.3522, 0.6478]], device='cuda:0')\n",
      "round: 2\n",
      "Player: 1\n",
      "Cards:\n",
      "[{'power': '3', 'type': 2}, {'power': '7', 'type': 0}, {'power': 'ace', 'type': 3}, {'power': '5', 'type': 0}, {'power': '7', 'type': 2}, {'power': '10', 'type': 0}]\n",
      "PokerHand.ONE_PAIR\n",
      "True val: tensor([1., 0.])\n",
      "Pred val: tensor([[9.9996e-01, 4.0567e-05]], device='cuda:0')\n",
      "Player: 2\n",
      "Cards:\n",
      "[{'power': '3', 'type': 1}, {'power': '8', 'type': 1}, {'power': 'ace', 'type': 3}, {'power': '5', 'type': 0}, {'power': '7', 'type': 2}, {'power': '10', 'type': 0}]\n",
      "PokerHand.HIGH_CARD\n",
      "True val: tensor([0., 1.])\n",
      "Pred val: tensor([[1.2689e-05, 9.9999e-01]], device='cuda:0')\n",
      "Player: 3\n",
      "Cards:\n",
      "[{'power': '5', 'type': 3}, {'power': '4', 'type': 3}, {'power': 'ace', 'type': 3}, {'power': '5', 'type': 0}, {'power': '7', 'type': 2}, {'power': '10', 'type': 0}]\n",
      "PokerHand.ONE_PAIR\n",
      "True val: tensor([1., 0.])\n",
      "Pred val: tensor([[9.9983e-01, 1.6948e-04]], device='cuda:0')\n",
      "Player: 4\n",
      "Cards:\n",
      "[{'power': '3', 'type': 0}, {'power': '10', 'type': 3}, {'power': 'ace', 'type': 3}, {'power': '5', 'type': 0}, {'power': '7', 'type': 2}, {'power': '10', 'type': 0}]\n",
      "PokerHand.ONE_PAIR\n",
      "True val: tensor([1., 0.])\n",
      "Pred val: tensor([[9.9958e-01, 4.1712e-04]], device='cuda:0')\n",
      "round: 3\n",
      "Player: 1\n",
      "Cards:\n",
      "[{'power': '3', 'type': 2}, {'power': '7', 'type': 0}, {'power': 'ace', 'type': 3}, {'power': '5', 'type': 0}, {'power': '7', 'type': 2}, {'power': '10', 'type': 0}, {'power': 'jack', 'type': 2}]\n",
      "PokerHand.ONE_PAIR\n",
      "True val: tensor([1., 0.])\n",
      "Pred val: tensor([[0.9943, 0.0057]], device='cuda:0')\n",
      "Player: 2\n",
      "Cards:\n",
      "[{'power': '3', 'type': 1}, {'power': '8', 'type': 1}, {'power': 'ace', 'type': 3}, {'power': '5', 'type': 0}, {'power': '7', 'type': 2}, {'power': '10', 'type': 0}, {'power': 'jack', 'type': 2}]\n",
      "PokerHand.HIGH_CARD\n",
      "True val: tensor([0., 1.])\n",
      "Pred val: tensor([[1.2779e-08, 1.0000e+00]], device='cuda:0')\n",
      "Player: 3\n",
      "Cards:\n",
      "[{'power': '5', 'type': 3}, {'power': '4', 'type': 3}, {'power': 'ace', 'type': 3}, {'power': '5', 'type': 0}, {'power': '7', 'type': 2}, {'power': '10', 'type': 0}, {'power': 'jack', 'type': 2}]\n",
      "PokerHand.ONE_PAIR\n",
      "True val: tensor([1., 0.])\n",
      "Pred val: tensor([[0.7591, 0.2409]], device='cuda:0')\n",
      "Player: 4\n",
      "Cards:\n",
      "[{'power': '3', 'type': 0}, {'power': '10', 'type': 3}, {'power': 'ace', 'type': 3}, {'power': '5', 'type': 0}, {'power': '7', 'type': 2}, {'power': '10', 'type': 0}, {'power': 'jack', 'type': 2}]\n",
      "PokerHand.ONE_PAIR\n",
      "True val: tensor([1., 0.])\n",
      "Pred val: tensor([[0.9957, 0.0043]], device='cuda:0')\n"
     ]
    },
    {
     "name": "stderr",
     "output_type": "stream",
     "text": [
      "D:\\PyCharmPrj\\ML\\.venv\\Lib\\site-packages\\torch\\nn\\modules\\module.py:1739: UserWarning: Implicit dimension choice for softmax has been deprecated. Change the call to include dim=X as an argument.\n",
      "  return self._call_impl(*args, **kwargs)\n"
     ]
    }
   ],
   "execution_count": 12
  },
  {
   "metadata": {},
   "cell_type": "code",
   "outputs": [],
   "execution_count": null,
   "source": [
    "model.eval()\n",
    "\n",
    "train_dataset = TensorDataset(x_train, y_train)\n",
    "\n",
    "val_loader = DataLoader(train_dataset, batch_size=128, shuffle=False)\n",
    "val_loss = 0\n",
    "with torch.no_grad():\n",
    "    for batch in val_loader:\n",
    "        inputs, targets = batch\n",
    "        outputs = model(inputs.to(device))\n",
    "        loss = criterion(outputs, targets.to(device))\n",
    "        val_loss += loss.item()\n",
    "\n",
    "val_loss_avg = val_loss / len(val_loader)"
   ],
   "id": "8934d3145c3d749e"
  }
 ],
 "metadata": {
  "kernelspec": {
   "display_name": "Python 3",
   "language": "python",
   "name": "python3"
  },
  "language_info": {
   "codemirror_mode": {
    "name": "ipython",
    "version": 2
   },
   "file_extension": ".py",
   "mimetype": "text/x-python",
   "name": "python",
   "nbconvert_exporter": "python",
   "pygments_lexer": "ipython2",
   "version": "2.7.6"
  }
 },
 "nbformat": 4,
 "nbformat_minor": 5
}
