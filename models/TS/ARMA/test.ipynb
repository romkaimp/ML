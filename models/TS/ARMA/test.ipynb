{
 "cells": [
  {
   "cell_type": "code",
   "id": "initial_id",
   "metadata": {
    "collapsed": true,
    "ExecuteTime": {
     "end_time": "2025-03-06T10:25:27.995798Z",
     "start_time": "2025-03-06T10:25:27.993820Z"
    }
   },
   "source": [
    "import numpy as np\n",
    "import matplotlib.pyplot as plt\n",
    "import numpy.linalg as linalg"
   ],
   "outputs": [],
   "execution_count": 64
  },
  {
   "metadata": {
    "ExecuteTime": {
     "end_time": "2025-03-06T10:25:28.004154Z",
     "start_time": "2025-03-06T10:25:28.000807Z"
    }
   },
   "cell_type": "code",
   "source": [
    "np.set_printoptions(precision=4, suppress=True)\n",
    "np.random.seed(1)\n",
    "\n",
    "time = np.linspace(0, 10 * np.pi, 1000)\n",
    "\n",
    "series = np.random.normal(0, 1, 1000) * np.sin(np.linspace(0, 10 * np.pi, 1000))\n",
    "noise = np.random.rand(1000) * 2 - 1\n",
    "noise_var = np.var(noise)\n",
    "print(noise_var)"
   ],
   "id": "8b558f136fbfbaf5",
   "outputs": [
    {
     "name": "stdout",
     "output_type": "stream",
     "text": [
      "0.3286865541420873\n"
     ]
    }
   ],
   "execution_count": 65
  },
  {
   "metadata": {
    "ExecuteTime": {
     "end_time": "2025-03-06T10:25:28.018605Z",
     "start_time": "2025-03-06T10:25:28.012452Z"
    }
   },
   "cell_type": "code",
   "source": [
    "length = series.shape[0]\n",
    "g_p = []\n",
    "for lag in range(series.shape[0]):\n",
    "    correlation = np.mean(series[lag:] * noise[:noise.shape[0]-lag])  # расчет корреляции x и eps\n",
    "    g_p.append(correlation / noise_var)\n",
    "    if lag == 0:\n",
    "        print(g_p)\n",
    "\n",
    "g_p = np.array(g_p)\n",
    "\n",
    "print(g_p.shape)"
   ],
   "id": "250ada306ed4df3a",
   "outputs": [
    {
     "name": "stdout",
     "output_type": "stream",
     "text": [
      "[np.float64(0.053438324275501145)]\n",
      "(1000,)\n"
     ]
    }
   ],
   "execution_count": 66
  },
  {
   "metadata": {
    "ExecuteTime": {
     "end_time": "2025-03-06T10:36:44.762653Z",
     "start_time": "2025-03-06T10:36:44.757633Z"
    }
   },
   "cell_type": "code",
   "source": [
    "p, q = 2, 4\n",
    "lag = p + q\n",
    "g = np.concatenate((np.zeros(lag), g_p))\n",
    "print(g[lag])\n",
    "SLAU_b = np.empty((q, p + 1))\n",
    "b = np.empty((q, 1))\n",
    "\n",
    "SLAU_a = np.empty((p, p))\n",
    "a = np.empty((p, 1))\n",
    "for i in range(q + 1, q + 1 + p):\n",
    "    SLAU_a[i - q - 1] = -g[lag + i - 1 - np.arange(p)]\n",
    "    a[i - q - 1] = g[lag + i]\n",
    "\n",
    "print(SLAU_a)\n",
    "print(a)\n",
    "A = linalg.solve(SLAU_a, a).reshape(p)\n",
    "A = np.concatenate((np.ones(1), A))\n",
    "print(A)\n",
    "B = np.zeros(q)\n",
    "\n",
    "for i in range(1, q + 1):\n",
    "    B[i - 1] = np.sum(g[lag + i - np.arange(p + 1)] * A)\n",
    "B = np.concatenate((np.ones(1), B))\n",
    "print(B)\n",
    "print(g[lag: lag + q + p + 1])"
   ],
   "id": "8bf9f444c1b9720f",
   "outputs": [
    {
     "name": "stdout",
     "output_type": "stream",
     "text": [
      "0.053438324275501145\n",
      "[[-0.0724  0.0207]\n",
      " [-0.0523 -0.0724]]\n",
      "[[ 0.0523]\n",
      " [-0.054 ]]\n",
      "[ 1.     -0.4225  1.0516]\n",
      "[ 1.     -0.0263  0.0648 -0.0275  0.0885]\n",
      "[ 0.0534 -0.0037  0.007  -0.0207  0.0724  0.0523 -0.054 ]\n"
     ]
    }
   ],
   "execution_count": 69
  },
  {
   "metadata": {
    "ExecuteTime": {
     "end_time": "2025-03-06T10:37:26.631976Z",
     "start_time": "2025-03-06T10:37:26.629170Z"
    }
   },
   "cell_type": "code",
   "source": [
    "noise = np.random.rand(1000) * 2 - 1\n",
    "noise_var = np.var(noise)\n",
    "print(noise_var)"
   ],
   "id": "554b6492b2ce4a0c",
   "outputs": [
    {
     "name": "stdout",
     "output_type": "stream",
     "text": [
      "0.33228582417572944\n"
     ]
    }
   ],
   "execution_count": 70
  },
  {
   "metadata": {},
   "cell_type": "code",
   "outputs": [],
   "execution_count": null,
   "source": "",
   "id": "65c4e49ac41033e6"
  }
 ],
 "metadata": {
  "kernelspec": {
   "display_name": "Python 3",
   "language": "python",
   "name": "python3"
  },
  "language_info": {
   "codemirror_mode": {
    "name": "ipython",
    "version": 2
   },
   "file_extension": ".py",
   "mimetype": "text/x-python",
   "name": "python",
   "nbconvert_exporter": "python",
   "pygments_lexer": "ipython2",
   "version": "2.7.6"
  }
 },
 "nbformat": 4,
 "nbformat_minor": 5
}
