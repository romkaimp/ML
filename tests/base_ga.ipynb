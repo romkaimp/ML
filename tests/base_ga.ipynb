{
 "cells": [
  {
   "cell_type": "code",
   "execution_count": null,
   "id": "initial_id",
   "metadata": {
    "collapsed": true
   },
   "outputs": [],
   "source": [
    "from models.GA.baseChromosome import LinearChromosome, Chromosome\n",
    "import copy\n",
    "import torch\n",
    "import numpy as np\n",
    "from models.TS.GRUPipeline import GRUwithFNO\n",
    "from torch.utils.data import DataLoader, TensorDataset\n",
    "\n",
    "import boto3"
   ]
  },
  {
   "metadata": {},
   "cell_type": "code",
   "outputs": [],
   "execution_count": null,
   "source": [
    "SYMBOL = \"SOLUSDT\"\n",
    "\n",
    "session = boto3.session.Session()\n",
    "s3 = session.client(\n",
    "    service_name='s3',\n",
    "    endpoint_url='https://storage.yandexcloud.net',\n",
    "    aws_access_key_id='YCAJEEvXFkR_Vlz_q0TNbK1f7',\n",
    "    aws_secret_access_key='YCPw07kPNEgOJVF0N93yReOErAl7RP0-5woP_Bgl',\n",
    "    region_name='ru-central1'\n",
    ")\n",
    "\n",
    "bucket_name = 'test-actions'\n",
    "\n",
    "x_train_file = f'train/train_x_{SYMBOL}.pt'\n",
    "y_train_file = f'train/train_y_{SYMBOL}.pt'\n",
    "x_test_file = f'test/test_x_{SYMBOL}.pt'\n",
    "y_test_file = f'test/test_y_{SYMBOL}.pt'\n",
    "\n",
    "device = torch.device('cuda' if torch.cuda.is_available() else 'cpu')\n",
    "\n",
    "s3.download_file(bucket_name, x_train_file, x_train_file[6:])\n",
    "s3.download_file(bucket_name, y_train_file, y_train_file[6:])\n",
    "s3.download_file(bucket_name, x_test_file, x_test_file[5:])\n",
    "s3.download_file(bucket_name, y_test_file, y_test_file[5:])\n",
    "\n",
    "print(x_train_file[6:])\n",
    "x_train, y_train = torch.load(f'train_x_{SYMBOL}.pt', weights_only=True).to(torch.float32).to(device), torch.load(\n",
    "    f'train_y_{SYMBOL}.pt', weights_only=True).to(torch.float32).to(device)\n",
    "x_test, y_test = torch.load(f'test_x_{SYMBOL}.pt', weights_only=True).to(torch.float32).to(device), torch.load(\n",
    "    f'test_y_{SYMBOL}.pt', weights_only=True).to(torch.float32).to(device)\n",
    "\n",
    "mean, std = x_train.squeeze().reshape(-1).detach().mean().item(), x_train.squeeze().reshape(\n",
    "    -1).detach().std().item()\n",
    "dataset = TensorDataset(x_train, y_train)\n",
    "validation = TensorDataset(x_test, y_test)"
   ],
   "id": "e3909b4ad22dd35c"
  }
 ],
 "metadata": {
  "kernelspec": {
   "display_name": "Python 3",
   "language": "python",
   "name": "python3"
  },
  "language_info": {
   "codemirror_mode": {
    "name": "ipython",
    "version": 2
   },
   "file_extension": ".py",
   "mimetype": "text/x-python",
   "name": "python",
   "nbconvert_exporter": "python",
   "pygments_lexer": "ipython2",
   "version": "2.7.6"
  }
 },
 "nbformat": 4,
 "nbformat_minor": 5
}
