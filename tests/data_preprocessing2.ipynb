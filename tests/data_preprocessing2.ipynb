{
 "cells": [
  {
   "cell_type": "code",
   "id": "initial_id",
   "metadata": {
    "collapsed": true,
    "ExecuteTime": {
     "end_time": "2024-10-06T18:26:12.264585Z",
     "start_time": "2024-10-06T18:26:12.261032Z"
    }
   },
   "source": [
    "from pybit.unified_trading import HTTP\n",
    "import numpy as np\n",
    "import time\n",
    "import torch"
   ],
   "outputs": [],
   "execution_count": 6
  },
  {
   "metadata": {
    "ExecuteTime": {
     "end_time": "2024-10-06T18:13:18.867219Z",
     "start_time": "2024-10-06T18:13:18.863309Z"
    }
   },
   "cell_type": "code",
   "source": [
    "SYMBOL = 'SOLUSDT'\n",
    "API_KEY = 'Z8QsHgyTpwinr9K2Ya'\n",
    "API_SECRET = '5QfjbglBfFK5A8RqGvcvdw8hCF4Yjv5sByOn'\n",
    "cl = HTTP(\n",
    "    \n",
    ")"
   ],
   "id": "9bd3b566e1f2378e",
   "outputs": [],
   "execution_count": 2
  },
  {
   "metadata": {
    "ExecuteTime": {
     "end_time": "2024-10-06T18:22:47.285866Z",
     "start_time": "2024-10-06T18:16:37.612504Z"
    }
   },
   "cell_type": "code",
   "source": [
    "START_TIMESTAMP = '1711929617184'\n",
    "time_series = 1000 #  количество изначальных временных рядов в разные промежутки времени, с количеством измерений t_s_l\n",
    "time_series_length = 20\n",
    "\n",
    "time_stamps = [START_TIMESTAMP]\n",
    "\n",
    "train_data = np.ndarray(shape=(time_series, time_series_length))\n",
    "volumes = np.ndarray(shape=time_series_length*time_series)\n",
    "all_price = np.ndarray(shape=time_series_length*time_series)\n",
    "\n",
    "for i in range(time_series):\n",
    "    kline = cl.get_kline(\n",
    "        category=\"spot\",\n",
    "        symbol=SYMBOL,\n",
    "        start=time_stamps[-1],\n",
    "        interval=1,\n",
    "        limit = time_series_length\n",
    "    )\n",
    "    if i % 115 == 0:\n",
    "        time.sleep(5)\n",
    "    time_stamps.append(str( int(kline.get('result', []).get('list', [])[0][0]) + 10000))\n",
    "    \n",
    "    volumes[i*time_series_length:(i+1)*time_series_length] = np.array([i[5] for i in kline.get('result', []).get('list', [])[::-1]], dtype=float)\n",
    "    all_price[i*time_series_length:(i+1)*time_series_length] = np.array([i[4] for i in kline.get('result', []).get('list', [])[::-1]], dtype=float)\n",
    "    \n",
    "    prices = np.array([i[4] for i in kline.get('result', []).get('list', [])[::-1]], dtype=float)         \n",
    "    train_data[i] = np.array(prices, dtype=float)"
   ],
   "id": "5f10981be802553e",
   "outputs": [],
   "execution_count": 3
  },
  {
   "metadata": {
    "ExecuteTime": {
     "end_time": "2024-10-06T19:06:23.773621Z",
     "start_time": "2024-10-06T19:06:23.736832Z"
    }
   },
   "cell_type": "code",
   "source": [
    "train_size = int(time_series * 0.8)\n",
    "prediction_length = 10\n",
    "idxs = np.random.choice((time_series-1), size=train_size)\n",
    "x_train, y_train, = torch.tensor(train_data[idxs]).unsqueeze(-1), torch.tensor(train_data[idxs+1][:, :prediction_length]).unsqueeze(-1)\n",
    "last_idxs = np.array([i for i in range(0, time_series-1) if not np.isin(i, idxs)])\n",
    "# Получение тестовых данных\n",
    "\n",
    "\n",
    "x_test, y_test = torch.tensor(train_data[last_idxs]).unsqueeze(-1), torch.tensor(train_data[last_idxs + 1][:, :prediction_length]).unsqueeze(-1)"
   ],
   "id": "42606c95445a9147",
   "outputs": [
    {
     "name": "stdout",
     "output_type": "stream",
     "text": [
      "torch.Size([800, 20, 1]) torch.Size([800, 10, 1])\n",
      "(800,)\n",
      "torch.Size([447, 20, 1])\n"
     ]
    }
   ],
   "execution_count": 51
  },
  {
   "metadata": {
    "ExecuteTime": {
     "end_time": "2024-10-06T19:11:50.101791Z",
     "start_time": "2024-10-06T19:11:50.095673Z"
    }
   },
   "cell_type": "code",
   "source": [
    "torch.save(x_train, f'trainX_{SYMBOL}.pt')\n",
    "torch.save(y_train, f'trainY_{SYMBOL}.pt')\n",
    "torch.save(x_test, f'testX_{SYMBOL}.pt')\n",
    "torch.save(y_test, f'testY_{SYMBOL}.pt')"
   ],
   "id": "5644c47dffe9ee55",
   "outputs": [],
   "execution_count": 56
  }
 ],
 "metadata": {
  "kernelspec": {
   "display_name": "Python 3",
   "language": "python",
   "name": "python3"
  },
  "language_info": {
   "codemirror_mode": {
    "name": "ipython",
    "version": 2
   },
   "file_extension": ".py",
   "mimetype": "text/x-python",
   "name": "python",
   "nbconvert_exporter": "python",
   "pygments_lexer": "ipython2",
   "version": "2.7.6"
  }
 },
 "nbformat": 4,
 "nbformat_minor": 5
}
