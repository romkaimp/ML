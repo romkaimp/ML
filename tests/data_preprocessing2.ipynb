{
 "cells": [
  {
   "cell_type": "code",
   "id": "initial_id",
   "metadata": {
    "collapsed": true,
    "ExecuteTime": {
     "end_time": "2024-10-06T18:26:12.264585Z",
     "start_time": "2024-10-06T18:26:12.261032Z"
    }
   },
   "source": [
    "import numpy\n",
    "from pybit.unified_trading import HTTP\n",
    "import numpy as np\n",
    "from matplotlib import pyplot as plt\n",
    "from sklearn.metrics import mean_squared_error, mean_absolute_error\n",
    "from models.TS.GRUPipeline import GRUNetwork\n",
    "import time\n",
    "from PyEMD import CEEMDAN\n",
    "from torch import optim\n",
    "from torch import nn\n",
    "import torch\n",
    "from torch.nn.utils.rnn import pad_sequence\n",
    "from torch.utils.data import DataLoader, TensorDataset"
   ],
   "outputs": [],
   "execution_count": 6
  },
  {
   "metadata": {
    "ExecuteTime": {
     "end_time": "2024-10-06T18:13:18.867219Z",
     "start_time": "2024-10-06T18:13:18.863309Z"
    }
   },
   "cell_type": "code",
   "source": [
    "SYMBOL = 'SOLUSDT'\n",
    "API_KEY = 'Z8QsHgyTpwinr9K2Ya'\n",
    "API_SECRET = '5QfjbglBfFK5A8RqGvcvdw8hCF4Yjv5sByOn'\n",
    "cl = HTTP(\n",
    "    \n",
    ")"
   ],
   "id": "9bd3b566e1f2378e",
   "outputs": [],
   "execution_count": 2
  },
  {
   "metadata": {
    "ExecuteTime": {
     "end_time": "2024-10-06T18:22:47.285866Z",
     "start_time": "2024-10-06T18:16:37.612504Z"
    }
   },
   "cell_type": "code",
   "source": [
    "START_TIMESTAMP = '1711929617184'\n",
    "time_series = 1000 #  количество изначальных временных рядов в разные промежутки времени, с количеством измерений t_s_l\n",
    "time_series_length = 20\n",
    "\n",
    "time_stamps = [START_TIMESTAMP]\n",
    "\n",
    "train_data = np.ndarray(shape=(time_series, time_series_length))\n",
    "volumes = np.ndarray(shape=time_series_length*time_series)\n",
    "all_price = np.ndarray(shape=time_series_length*time_series)\n",
    "\n",
    "for i in range(time_series):\n",
    "    kline = cl.get_kline(\n",
    "        category=\"spot\",\n",
    "        symbol=SYMBOL,\n",
    "        start=time_stamps[-1],\n",
    "        interval=1,\n",
    "        limit = time_series_length\n",
    "    )\n",
    "    if i % 115 == 0:\n",
    "        time.sleep(5)\n",
    "    time_stamps.append(str( int(kline.get('result', []).get('list', [])[0][0]) + 10000))\n",
    "    \n",
    "    volumes[i*time_series_length:(i+1)*time_series_length] = np.array([i[5] for i in kline.get('result', []).get('list', [])[::-1]], dtype=float)\n",
    "    all_price[i*time_series_length:(i+1)*time_series_length] = np.array([i[4] for i in kline.get('result', []).get('list', [])[::-1]], dtype=float)\n",
    "    \n",
    "    prices = np.array([i[4] for i in kline.get('result', []).get('list', [])[::-1]], dtype=float)         \n",
    "    train_data[i] = np.array(prices, dtype=float)"
   ],
   "id": "5f10981be802553e",
   "outputs": [],
   "execution_count": 3
  },
  {
   "metadata": {
    "ExecuteTime": {
     "end_time": "2024-10-06T18:56:53.392959Z",
     "start_time": "2024-10-06T18:56:47.996102Z"
    }
   },
   "cell_type": "code",
   "source": [
    "ceem = CEEMDAN(parallel=True)\n",
    "imfs = ceem(torch.tensor(train_data[0].reshape(-1, 1)).cpu().numpy().squeeze())  # проводим EMD на временном ряде\n",
    "imfs = imfs[:3]  # берем только три первых IMFs\n",
    "imfs = torch.tensor(imfs).transpose(0, 1)\n",
    "print(imfs)"
   ],
   "id": "7c76225fdb1f1c5c",
   "outputs": [
    {
     "name": "stdout",
     "output_type": "stream",
     "text": [
      "tensor([[ 4.5886e-02, -7.8835e-02,  2.0220e+02],\n",
      "        [ 1.0631e-01, -1.2188e-01,  2.0219e+02],\n",
      "        [-1.1752e-01, -6.1703e-02,  2.0216e+02],\n",
      "        [ 1.1661e-01,  6.7749e-02,  2.0213e+02],\n",
      "        [-9.0812e-02,  1.4425e-01,  2.0209e+02],\n",
      "        [ 7.4085e-02,  1.1219e-01,  2.0204e+02],\n",
      "        [-5.6436e-02,  1.7565e-02,  2.0200e+02],\n",
      "        [-8.0327e-02, -9.3408e-02,  2.0195e+02],\n",
      "        [-1.6028e-01, -1.7977e-01,  2.0191e+02],\n",
      "        [ 1.8806e-01, -2.0763e-01,  2.0187e+02],\n",
      "        [-3.4033e-03, -1.8043e-01,  2.0183e+02],\n",
      "        [-7.8074e-02, -1.1550e-01,  2.0180e+02],\n",
      "        [-1.9752e-01, -3.1148e-02,  2.0178e+02],\n",
      "        [ 1.9564e-01,  5.5502e-02,  2.0176e+02],\n",
      "        [-1.6601e-01,  1.3214e-01,  2.0174e+02],\n",
      "        [-1.8631e-01,  1.9288e-01,  2.0173e+02],\n",
      "        [-2.0620e-01,  2.3893e-01,  2.0173e+02],\n",
      "        [-2.0621e-01,  2.7107e-01,  2.0173e+02],\n",
      "        [ 7.3134e-02,  2.9011e-01,  2.0173e+02],\n",
      "        [ 1.7224e-01,  2.9591e-01,  2.0173e+02]], dtype=torch.float64)\n"
     ]
    }
   ],
   "execution_count": 31
  },
  {
   "metadata": {
    "ExecuteTime": {
     "end_time": "2024-10-06T19:06:23.773621Z",
     "start_time": "2024-10-06T19:06:23.736832Z"
    }
   },
   "cell_type": "code",
   "source": [
    "train_size = int(time_series * 0.8)\n",
    "prediction_length = 10\n",
    "idxs = np.random.choice((time_series-1), size=train_size)\n",
    "x_train, y_train, = torch.tensor(train_data[idxs]).unsqueeze(-1), torch.tensor(train_data[idxs+1][:, :prediction_length]).unsqueeze(-1)\n",
    "print(x_train.shape, y_train.shape)\n",
    "print(idxs.shape)\n",
    "last_idxs = np.array([i for i in range(0, time_series-1) if not np.isin(i, idxs)])\n",
    "# Получение тестовых данных\n",
    "\n",
    "\n",
    "x_test, y_test = torch.tensor(train_data[last_idxs]).unsqueeze(-1), torch.tensor(train_data[last_idxs + 1][:, :prediction_length]).unsqueeze(-1)\n",
    "print(x_test.shape)"
   ],
   "id": "42606c95445a9147",
   "outputs": [
    {
     "name": "stdout",
     "output_type": "stream",
     "text": [
      "torch.Size([800, 20, 1]) torch.Size([800, 10, 1])\n",
      "(800,)\n",
      "torch.Size([447, 20, 1])\n"
     ]
    }
   ],
   "execution_count": 51
  },
  {
   "metadata": {
    "ExecuteTime": {
     "end_time": "2024-10-06T19:11:50.101791Z",
     "start_time": "2024-10-06T19:11:50.095673Z"
    }
   },
   "cell_type": "code",
   "source": [
    "torch.save(x_train, f'trainX_{SYMBOL}.pt')\n",
    "torch.save(y_train, f'trainY_{SYMBOL}.pt')\n",
    "torch.save(x_test, f'testX_{SYMBOL}.pt')\n",
    "torch.save(y_test, f'testY_{SYMBOL}.pt')"
   ],
   "id": "5644c47dffe9ee55",
   "outputs": [],
   "execution_count": 56
  },
  {
   "metadata": {
    "ExecuteTime": {
     "end_time": "2024-10-06T19:08:12.151821Z",
     "start_time": "2024-10-06T19:08:12.147920Z"
    }
   },
   "cell_type": "code",
   "source": [
    "dataset = TensorDataset(x_train, y_train)\n",
    "batch_size = 5\n",
    "dataloader = DataLoader(dataset, batch_size=batch_size, shuffle=True)"
   ],
   "id": "cb12f97748061c29",
   "outputs": [],
   "execution_count": 52
  },
  {
   "metadata": {
    "ExecuteTime": {
     "end_time": "2024-10-06T19:10:22.048021Z",
     "start_time": "2024-10-06T19:10:18.676222Z"
    }
   },
   "cell_type": "code",
   "source": [
    "gru = GRUNetwork(1, 30, 2, 10, 1)\n",
    "\n",
    "criterion = nn.MSELoss()\n",
    "optimizer = optim.Adam(gru.parameters(), lr=0.01)\n",
    "\n",
    "# Обучение модели\n",
    "num_epochs = 1000\n",
    "\n",
    "for epoch in range(num_epochs):\n",
    "    for i, (batch_x, batch_y) in enumerate(dataloader):\n",
    "        gru.train()\n",
    "        outputs = gru(batch_x)\n",
    "        optimizer.zero_grad()\n",
    "        loss = criterion(outputs, batch_y)\n",
    "        loss.backward()\n",
    "        optimizer.step()\n",
    "\n",
    "    print(f'Epoch [{epoch + 1}/{num_epochs}], Loss: {loss.item():.4f}')"
   ],
   "id": "505a160716c043ce",
   "outputs": [
    {
     "name": "stdout",
     "output_type": "stream",
     "text": [
      "torch.Size([20, 3, 1])\n",
      "torch.Size([20, 3, 1])\n",
      "torch.Size([20, 3, 1])\n",
      "torch.Size([20, 2, 1])\n",
      "torch.Size([20, 3, 1])\n"
     ]
    },
    {
     "ename": "RuntimeError",
     "evalue": "The size of tensor a (3) must match the size of tensor b (2) at non-singleton dimension 1",
     "output_type": "error",
     "traceback": [
      "\u001B[1;31m---------------------------------------------------------------------------\u001B[0m",
      "\u001B[1;31mRuntimeError\u001B[0m                              Traceback (most recent call last)",
      "Cell \u001B[1;32mIn[54], line 12\u001B[0m\n\u001B[0;32m     10\u001B[0m \u001B[38;5;28;01mfor\u001B[39;00m i, (batch_x, batch_y) \u001B[38;5;129;01min\u001B[39;00m \u001B[38;5;28menumerate\u001B[39m(dataloader):\n\u001B[0;32m     11\u001B[0m     gru\u001B[38;5;241m.\u001B[39mtrain()\n\u001B[1;32m---> 12\u001B[0m     outputs \u001B[38;5;241m=\u001B[39m \u001B[43mgru\u001B[49m\u001B[43m(\u001B[49m\u001B[43mbatch_x\u001B[49m\u001B[43m)\u001B[49m\n\u001B[0;32m     13\u001B[0m     optimizer\u001B[38;5;241m.\u001B[39mzero_grad()\n\u001B[0;32m     14\u001B[0m     loss \u001B[38;5;241m=\u001B[39m criterion(outputs, batch_y)\n",
      "File \u001B[1;32mE:\\FASTAPI\\PEINO\\.venv\\Lib\\site-packages\\torch\\nn\\modules\\module.py:1553\u001B[0m, in \u001B[0;36mModule._wrapped_call_impl\u001B[1;34m(self, *args, **kwargs)\u001B[0m\n\u001B[0;32m   1551\u001B[0m     \u001B[38;5;28;01mreturn\u001B[39;00m \u001B[38;5;28mself\u001B[39m\u001B[38;5;241m.\u001B[39m_compiled_call_impl(\u001B[38;5;241m*\u001B[39margs, \u001B[38;5;241m*\u001B[39m\u001B[38;5;241m*\u001B[39mkwargs)  \u001B[38;5;66;03m# type: ignore[misc]\u001B[39;00m\n\u001B[0;32m   1552\u001B[0m \u001B[38;5;28;01melse\u001B[39;00m:\n\u001B[1;32m-> 1553\u001B[0m     \u001B[38;5;28;01mreturn\u001B[39;00m \u001B[38;5;28;43mself\u001B[39;49m\u001B[38;5;241;43m.\u001B[39;49m\u001B[43m_call_impl\u001B[49m\u001B[43m(\u001B[49m\u001B[38;5;241;43m*\u001B[39;49m\u001B[43margs\u001B[49m\u001B[43m,\u001B[49m\u001B[43m \u001B[49m\u001B[38;5;241;43m*\u001B[39;49m\u001B[38;5;241;43m*\u001B[39;49m\u001B[43mkwargs\u001B[49m\u001B[43m)\u001B[49m\n",
      "File \u001B[1;32mE:\\FASTAPI\\PEINO\\.venv\\Lib\\site-packages\\torch\\nn\\modules\\module.py:1562\u001B[0m, in \u001B[0;36mModule._call_impl\u001B[1;34m(self, *args, **kwargs)\u001B[0m\n\u001B[0;32m   1557\u001B[0m \u001B[38;5;66;03m# If we don't have any hooks, we want to skip the rest of the logic in\u001B[39;00m\n\u001B[0;32m   1558\u001B[0m \u001B[38;5;66;03m# this function, and just call forward.\u001B[39;00m\n\u001B[0;32m   1559\u001B[0m \u001B[38;5;28;01mif\u001B[39;00m \u001B[38;5;129;01mnot\u001B[39;00m (\u001B[38;5;28mself\u001B[39m\u001B[38;5;241m.\u001B[39m_backward_hooks \u001B[38;5;129;01mor\u001B[39;00m \u001B[38;5;28mself\u001B[39m\u001B[38;5;241m.\u001B[39m_backward_pre_hooks \u001B[38;5;129;01mor\u001B[39;00m \u001B[38;5;28mself\u001B[39m\u001B[38;5;241m.\u001B[39m_forward_hooks \u001B[38;5;129;01mor\u001B[39;00m \u001B[38;5;28mself\u001B[39m\u001B[38;5;241m.\u001B[39m_forward_pre_hooks\n\u001B[0;32m   1560\u001B[0m         \u001B[38;5;129;01mor\u001B[39;00m _global_backward_pre_hooks \u001B[38;5;129;01mor\u001B[39;00m _global_backward_hooks\n\u001B[0;32m   1561\u001B[0m         \u001B[38;5;129;01mor\u001B[39;00m _global_forward_hooks \u001B[38;5;129;01mor\u001B[39;00m _global_forward_pre_hooks):\n\u001B[1;32m-> 1562\u001B[0m     \u001B[38;5;28;01mreturn\u001B[39;00m \u001B[43mforward_call\u001B[49m\u001B[43m(\u001B[49m\u001B[38;5;241;43m*\u001B[39;49m\u001B[43margs\u001B[49m\u001B[43m,\u001B[49m\u001B[43m \u001B[49m\u001B[38;5;241;43m*\u001B[39;49m\u001B[38;5;241;43m*\u001B[39;49m\u001B[43mkwargs\u001B[49m\u001B[43m)\u001B[49m\n\u001B[0;32m   1564\u001B[0m \u001B[38;5;28;01mtry\u001B[39;00m:\n\u001B[0;32m   1565\u001B[0m     result \u001B[38;5;241m=\u001B[39m \u001B[38;5;28;01mNone\u001B[39;00m\n",
      "File \u001B[1;32mE:\\FASTAPI\\PEINO\\models\\TS\\GRUPipeline.py:37\u001B[0m, in \u001B[0;36mGRUNetwork.forward\u001B[1;34m(self, x)\u001B[0m\n\u001B[0;32m     34\u001B[0m     \u001B[38;5;28mprint\u001B[39m(imfs\u001B[38;5;241m.\u001B[39mshape)\n\u001B[0;32m     35\u001B[0m     decomposed_series\u001B[38;5;241m.\u001B[39mappend(imfs\u001B[38;5;241m.\u001B[39mto(\u001B[38;5;28mself\u001B[39m\u001B[38;5;241m.\u001B[39mdevice))\n\u001B[1;32m---> 37\u001B[0m x_decomposed \u001B[38;5;241m=\u001B[39m \u001B[43mpad_sequence\u001B[49m\u001B[43m(\u001B[49m\u001B[43mdecomposed_series\u001B[49m\u001B[43m)\u001B[49m\n\u001B[0;32m     39\u001B[0m h0 \u001B[38;5;241m=\u001B[39m torch\u001B[38;5;241m.\u001B[39mzeros(\u001B[38;5;28mself\u001B[39m\u001B[38;5;241m.\u001B[39mnum_layers, batch_size, \u001B[38;5;28mself\u001B[39m\u001B[38;5;241m.\u001B[39mhidden_size)\u001B[38;5;241m.\u001B[39mto(\u001B[38;5;28mself\u001B[39m\u001B[38;5;241m.\u001B[39mdevice)\n\u001B[0;32m     40\u001B[0m out, h_n \u001B[38;5;241m=\u001B[39m \u001B[38;5;28mself\u001B[39m\u001B[38;5;241m.\u001B[39mgru(x_decomposed, h0)\n",
      "File \u001B[1;32mE:\\FASTAPI\\PEINO\\.venv\\Lib\\site-packages\\torch\\nn\\utils\\rnn.py:397\u001B[0m, in \u001B[0;36mpad_sequence\u001B[1;34m(sequences, batch_first, padding_value)\u001B[0m\n\u001B[0;32m    393\u001B[0m         sequences \u001B[38;5;241m=\u001B[39m sequences\u001B[38;5;241m.\u001B[39munbind(\u001B[38;5;241m0\u001B[39m)\n\u001B[0;32m    395\u001B[0m \u001B[38;5;66;03m# assuming trailing dimensions and type of all the Tensors\u001B[39;00m\n\u001B[0;32m    396\u001B[0m \u001B[38;5;66;03m# in sequences are same and fetching those from sequences[0]\u001B[39;00m\n\u001B[1;32m--> 397\u001B[0m \u001B[38;5;28;01mreturn\u001B[39;00m \u001B[43mtorch\u001B[49m\u001B[38;5;241;43m.\u001B[39;49m\u001B[43m_C\u001B[49m\u001B[38;5;241;43m.\u001B[39;49m\u001B[43m_nn\u001B[49m\u001B[38;5;241;43m.\u001B[39;49m\u001B[43mpad_sequence\u001B[49m\u001B[43m(\u001B[49m\u001B[43msequences\u001B[49m\u001B[43m,\u001B[49m\u001B[43m \u001B[49m\u001B[43mbatch_first\u001B[49m\u001B[43m,\u001B[49m\u001B[43m \u001B[49m\u001B[43mpadding_value\u001B[49m\u001B[43m)\u001B[49m\n",
      "\u001B[1;31mRuntimeError\u001B[0m: The size of tensor a (3) must match the size of tensor b (2) at non-singleton dimension 1"
     ]
    }
   ],
   "execution_count": 54
  }
 ],
 "metadata": {
  "kernelspec": {
   "display_name": "Python 3",
   "language": "python",
   "name": "python3"
  },
  "language_info": {
   "codemirror_mode": {
    "name": "ipython",
    "version": 2
   },
   "file_extension": ".py",
   "mimetype": "text/x-python",
   "name": "python",
   "nbconvert_exporter": "python",
   "pygments_lexer": "ipython2",
   "version": "2.7.6"
  }
 },
 "nbformat": 4,
 "nbformat_minor": 5
}
