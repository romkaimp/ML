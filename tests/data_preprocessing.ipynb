{
 "cells": [
  {
   "cell_type": "code",
   "id": "initial_id",
   "metadata": {
    "collapsed": true,
    "ExecuteTime": {
     "end_time": "2024-10-06T15:43:52.557228Z",
     "start_time": "2024-10-06T15:43:42.471576Z"
    }
   },
   "source": [
    "import numpy\n",
    "from pybit.unified_trading import HTTP\n",
    "import numpy as np\n",
    "from matplotlib import pyplot as plt\n",
    "from sklearn.metrics import mean_squared_error, mean_absolute_error\n",
    "from models.TS.GRUPipeline import GRUNetwork\n",
    "import time\n",
    "from torch import optim\n",
    "from torch import nn\n",
    "import torch\n",
    "from torch.nn.utils.rnn import pad_sequence\n",
    "from torch.utils.data import DataLoader, TensorDataset"
   ],
   "outputs": [],
   "execution_count": 1
  },
  {
   "metadata": {
    "ExecuteTime": {
     "end_time": "2024-10-06T15:43:52.576595Z",
     "start_time": "2024-10-06T15:43:52.573210Z"
    }
   },
   "cell_type": "code",
   "source": [
    "SYMBOL = 'SOLUSDT'\n",
    "API_KEY = 'Z8QsHgyTpwinr9K2Ya'\n",
    "API_SECRET = '5QfjbglBfFK5A8RqGvcvdw8hCF4Yjv5sByOn' # март"
   ],
   "id": "da97c30e685f1164",
   "outputs": [],
   "execution_count": 2
  },
  {
   "metadata": {
    "ExecuteTime": {
     "end_time": "2024-10-06T15:43:52.783496Z",
     "start_time": "2024-10-06T15:43:52.780902Z"
    }
   },
   "cell_type": "code",
   "source": [
    "cl = HTTP(\n",
    "    \n",
    ")"
   ],
   "id": "8478453b67e903bd",
   "outputs": [],
   "execution_count": 3
  },
  {
   "metadata": {
    "ExecuteTime": {
     "end_time": "2024-10-06T15:57:02.476182Z",
     "start_time": "2024-10-06T15:43:52.790563Z"
    }
   },
   "cell_type": "code",
   "source": [
    "#butch_size = 5\n",
    "START_TIMESTAMP = '1711929617184'\n",
    "time_series = 1000 #  количество изначальных временных рядов в разные промежутки времени, с количеством измерений t_s_l\n",
    "time_series_length = 10 #  количество сэмплов из ts, на которые мы делим временной ряд\n",
    "time_series_sample = 20 #  количество сделок в одном временном ряду\n",
    "\n",
    "time_series_real_l = time_series_length + time_series_sample - 1\n",
    "time_stamps = [START_TIMESTAMP]\n",
    "\n",
    "train_data = np.ndarray(shape=(time_series, time_series_length, time_series_sample))\n",
    "volumes = np.ndarray(shape=time_series_real_l*time_series)\n",
    "all_price = np.ndarray(shape=time_series_real_l*time_series)\n",
    "\n",
    "for i in range(time_series):\n",
    "    kline = cl.get_kline(\n",
    "        category=\"spot\",\n",
    "        symbol=SYMBOL,\n",
    "        start=time_stamps[-1],\n",
    "        interval=1,\n",
    "        limit = time_series_real_l\n",
    "    )\n",
    "    if kline.get('result', []).get('list', [])[-1][0] < time_stamps[-1]:\n",
    "        time_stamps[-1] = kline.get('result', []).get('list', [])[-2][0]\n",
    "        time.sleep(0.05)\n",
    "        kline = cl.get_kline(\n",
    "            category=\"spot\",\n",
    "            symbol=SYMBOL,\n",
    "            start=time_stamps[-1],\n",
    "            interval=1,\n",
    "            limit = time_series_real_l\n",
    "        )\n",
    "    if i % 120 == 0:\n",
    "        time.sleep(5)\n",
    "    time_stamps.append(str( int(kline.get('result', []).get('list', [])[0][0]) + 10000))\n",
    "    \n",
    "    volumes[i*time_series_real_l:(i+1)*time_series_real_l] = np.array([i[5] for i in kline.get('result', []).get('list', [])[::-1]], dtype=float)\n",
    "    all_price[i*time_series_real_l:(i+1)*time_series_real_l] = np.array([i[4] for i in kline.get('result', []).get('list', [])[::-1]], dtype=float)\n",
    "    \n",
    "    prices = np.array([i[4] for i in kline.get('result', []).get('list', [])[::-1]], dtype=float)         \n",
    "    train_data[i] = np.array(\n",
    "        [prices[i:time_series_sample+i] for i in range(time_series_real_l-time_series_sample+1)], dtype=float\n",
    "    ).reshape(time_series_real_l-time_series_sample+1, time_series_sample)     "
   ],
   "id": "95918b1267c53017",
   "outputs": [],
   "execution_count": 4
  },
  {
   "metadata": {
    "ExecuteTime": {
     "end_time": "2024-10-06T15:57:02.492626Z",
     "start_time": "2024-10-06T15:57:02.488548Z"
    }
   },
   "cell_type": "code",
   "source": "print(train_data.shape)",
   "id": "c3b1106ba19feb74",
   "outputs": [
    {
     "name": "stdout",
     "output_type": "stream",
     "text": [
      "(1000, 10, 20)\n"
     ]
    }
   ],
   "execution_count": 5
  },
  {
   "metadata": {
    "ExecuteTime": {
     "end_time": "2024-10-06T15:58:28.504134Z",
     "start_time": "2024-10-06T15:58:28.498594Z"
    }
   },
   "cell_type": "code",
   "source": [
    "train_size = int(time_series * 0.8)\n",
    "prediction_length = 10\n",
    "idxs = np.random.choice((time_series-1), size=train_size)\n",
    "x_train, y_train, = torch.tensor(train_data[idxs]), torch.tensor(train_data[idxs+1][:, 0, :prediction_length])\n",
    "print(x_train.shape, y_train.shape)"
   ],
   "id": "22ff2481b6610c01",
   "outputs": [
    {
     "name": "stdout",
     "output_type": "stream",
     "text": [
      "torch.Size([800, 10, 20]) torch.Size([800, 10])\n"
     ]
    }
   ],
   "execution_count": 11
  },
  {
   "metadata": {
    "ExecuteTime": {
     "end_time": "2024-10-06T15:58:31.539160Z",
     "start_time": "2024-10-06T15:58:31.229294Z"
    }
   },
   "cell_type": "code",
   "source": [
    "synthetic_data_size = 2000\n",
    "synthetic_data_x = []\n",
    "synthetic_data_y = []\n",
    "for i in range(2000):\n",
    "    idx = int(np.random.rand()*(train_size-2)) #  можно взять предпоследний элемент, потому что по следующему эл-ту будет идти ошибка\n",
    "    size_s = min(time_series_length-1, max(2, int(np.random.normal(time_series_length/2, time_series_length/4))))\n",
    "    samples_idx = np.random.choice(time_series_length-1, size = size_s, replace=True)\n",
    "    samples_idx.sort()\n",
    "    samples_idx = np.append(samples_idx, time_series_length-1)\n",
    "    el_x = x_train[idx][samples_idx]\n",
    "    el_y = x_train[idx+1][0, :prediction_length]\n",
    "    synthetic_data_x.append(el_x.clone().detach().requires_grad_(True))\n",
    "    synthetic_data_y.append(el_y.clone().detach().requires_grad_(True))\n",
    "synthetic_data_x = pad_sequence(synthetic_data_x, batch_first=True)\n",
    "synthetic_data_y = torch.stack(synthetic_data_y)\n",
    "print(synthetic_data_x.shape, synthetic_data_y.shape)"
   ],
   "id": "8645e5276aaf42a9",
   "outputs": [
    {
     "name": "stdout",
     "output_type": "stream",
     "text": [
      "torch.Size([2000, 10, 20]) torch.Size([2000, 10])\n"
     ]
    }
   ],
   "execution_count": 12
  },
  {
   "metadata": {
    "ExecuteTime": {
     "end_time": "2024-10-06T16:15:52.174451Z",
     "start_time": "2024-10-06T16:15:52.072731Z"
    }
   },
   "cell_type": "code",
   "source": [
    "torch.save(torch.concat((x_train, synthetic_data_x), dim=0), f'train_x_{SYMBOL}.pt')\n",
    "torch.save(torch.concat((y_train, synthetic_data_y), dim=0), f'train_y_{SYMBOL}.pt')"
   ],
   "id": "2cba69a9966fbf01",
   "outputs": [],
   "execution_count": 15
  }
 ],
 "metadata": {
  "kernelspec": {
   "display_name": "Python 3",
   "language": "python",
   "name": "python3"
  },
  "language_info": {
   "codemirror_mode": {
    "name": "ipython",
    "version": 2
   },
   "file_extension": ".py",
   "mimetype": "text/x-python",
   "name": "python",
   "nbconvert_exporter": "python",
   "pygments_lexer": "ipython2",
   "version": "2.7.6"
  }
 },
 "nbformat": 4,
 "nbformat_minor": 5
}
