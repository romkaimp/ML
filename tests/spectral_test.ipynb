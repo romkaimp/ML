{
 "cells": [
  {
   "cell_type": "code",
   "id": "initial_id",
   "metadata": {
    "collapsed": true,
    "ExecuteTime": {
     "end_time": "2024-10-07T21:30:53.697824Z",
     "start_time": "2024-10-07T21:30:50.666140Z"
    }
   },
   "source": [
    "import torch\n",
    "import numpy as np\n",
    "\n",
    "from models.TS.GRUPipeline import GRUwithFNO\n",
    "from torch.utils.data import DataLoader, TensorDataset\n",
    "import matplotlib.pyplot as plt\n",
    "import boto3"
   ],
   "outputs": [],
   "execution_count": 1
  },
  {
   "metadata": {
    "ExecuteTime": {
     "end_time": "2024-10-07T21:30:55.129941Z",
     "start_time": "2024-10-07T21:30:53.728832Z"
    }
   },
   "cell_type": "code",
   "source": [
    "SYMBOL = \"BTCUSDT\"\n",
    "\n",
    "session = boto3.session.Session()\n",
    "s3 = session.client(\n",
    "    service_name='s3',\n",
    "    endpoint_url='https://storage.yandexcloud.net',\n",
    "    aws_access_key_id='YCAJEEvXFkR_Vlz_q0TNbK1f7',\n",
    "    aws_secret_access_key='YCPw07kPNEgOJVF0N93yReOErAl7RP0-5woP_Bgl',\n",
    "    region_name='ru-central1'\n",
    ")\n",
    "\n",
    "bucket_name = 'test-actions'\n",
    "\n",
    "x_train_file = f'train/train_x_{SYMBOL}.pt'\n",
    "y_train_file = f'train/train_y_{SYMBOL}.pt'\n",
    "x_test_file = f'test/test_x_{SYMBOL}.pt'\n",
    "y_test_file = f'test/test_y_{SYMBOL}.pt'\n",
    "\n",
    "device = torch.device('cuda' if torch.cuda.is_available() else 'cpu')\n",
    "\n",
    "s3.download_file(bucket_name, x_train_file, x_train_file[6:])\n",
    "s3.download_file(bucket_name, y_train_file, y_train_file[6:])\n",
    "s3.download_file(bucket_name, x_test_file, x_test_file[5:])\n",
    "s3.download_file(bucket_name, y_test_file, y_test_file[5:])\n",
    "\n",
    "print(x_train_file[6:])\n",
    "x_train, y_train = torch.load(f'train_x_{SYMBOL}.pt', weights_only=True).to(torch.float32).to(device), torch.load(\n",
    "    f'train_y_{SYMBOL}.pt', weights_only=True).to(torch.float32).to(device)\n",
    "x_test, y_test = torch.load(f'test_x_{SYMBOL}.pt', weights_only=True).to(torch.float32).to(device), torch.load(\n",
    "    f'test_y_{SYMBOL}.pt', weights_only=True).to(torch.float32).to(device)\n",
    "\n",
    "mean, std = x_train.squeeze().reshape(-1).detach().mean().item(), x_train.squeeze().reshape(\n",
    "    -1).detach().std().item()\n",
    "dataset = TensorDataset(x_train, y_train)\n",
    "validation = TensorDataset(x_test, y_test)"
   ],
   "id": "caad1ec84b9789e3",
   "outputs": [
    {
     "name": "stdout",
     "output_type": "stream",
     "text": [
      "train_x_BTCUSDT.pt\n"
     ]
    }
   ],
   "execution_count": 2
  },
  {
   "metadata": {
    "ExecuteTime": {
     "end_time": "2024-10-07T21:30:55.558722Z",
     "start_time": "2024-10-07T21:30:55.500430Z"
    }
   },
   "cell_type": "code",
   "source": [
    "gru = GRUwithFNO(input_size=20, sequence_length=10, hidden_size=30, num_layers=2, output_length=10, components=1, mean=mean, scale=std)\n",
    "print(f'model/weights_{SYMBOL}', f'weights_{SYMBOL}')\n",
    "s3.download_file(bucket_name, f'model/weights_{SYMBOL}.pt', f'weights_{SYMBOL}.pt')\n",
    "gru.load_state_dict(torch.load(f'weights_{SYMBOL}.pt', weights_only=False, map_location=torch.device(device)))"
   ],
   "id": "155e0307185c2248",
   "outputs": [
    {
     "name": "stdout",
     "output_type": "stream",
     "text": [
      "model/weights_BTCUSDT weights_BTCUSDT\n"
     ]
    },
    {
     "data": {
      "text/plain": [
       "<All keys matched successfully>"
      ]
     },
     "execution_count": 3,
     "metadata": {},
     "output_type": "execute_result"
    }
   ],
   "execution_count": 3
  },
  {
   "metadata": {
    "ExecuteTime": {
     "end_time": "2024-10-07T21:30:55.739682Z",
     "start_time": "2024-10-07T21:30:55.702966Z"
    }
   },
   "cell_type": "code",
   "source": [
    "gru.eval()\n",
    "print(x_test[0][np.newaxis, :, :].shape)\n",
    "x = x_test[0][np.newaxis, :, :].detach()\n",
    "print(x_test)\n",
    "pred = gru(x)\n",
    "print(pred)"
   ],
   "id": "3dbb8cd8a37615ad",
   "outputs": [
    {
     "name": "stdout",
     "output_type": "stream",
     "text": [
      "torch.Size([1, 10, 20])\n",
      "tensor([[[71079.8906, 71075.9219, 71091.0781,  ..., 70928.8906,\n",
      "          70977.5391, 70996.3594],\n",
      "         [71075.9219, 71091.0781, 71125.1484,  ..., 70977.5391,\n",
      "          70996.3594, 71066.8438],\n",
      "         [71091.0781, 71125.1484, 71091.1016,  ..., 70996.3594,\n",
      "          71066.8438, 71049.1094],\n",
      "         ...,\n",
      "         [71052.0625, 71004.5391, 71022.3125,  ..., 71004.0391,\n",
      "          71047.3516, 71049.5000],\n",
      "         [71004.5391, 71022.3125, 71029.6562,  ..., 71047.3516,\n",
      "          71049.5000, 71054.5781],\n",
      "         [71022.3125, 71029.6562, 71015.4219,  ..., 71049.5000,\n",
      "          71054.5781, 71055.3906]],\n",
      "\n",
      "        [[71038.3125, 71015.6016, 71010.7578,  ..., 70828.1328,\n",
      "          70847.1484, 70833.2109],\n",
      "         [71015.6016, 71010.7578, 71015.8516,  ..., 70847.1484,\n",
      "          70833.2109, 70851.6484],\n",
      "         [71010.7578, 71015.8516, 70965.9375,  ..., 70833.2109,\n",
      "          70851.6484, 70881.9766],\n",
      "         ...,\n",
      "         [71024.8594, 71044.4531, 71060.8906,  ..., 70889.7500,\n",
      "          70870.1719, 70875.0078],\n",
      "         [71044.4531, 71060.8906, 71075.1094,  ..., 70870.1719,\n",
      "          70875.0078, 70825.1797],\n",
      "         [71060.8906, 71075.1094, 71031.8203,  ..., 70875.0078,\n",
      "          70825.1797, 70830.3203]],\n",
      "\n",
      "        [[70830.3203, 70816.8125, 70831.0938,  ..., 70835.6484,\n",
      "          70842.5625, 70819.4297],\n",
      "         [70816.8125, 70831.0938, 70835.3984,  ..., 70842.5625,\n",
      "          70819.4297, 70823.5391],\n",
      "         [70831.0938, 70835.3984, 70827.0781,  ..., 70819.4297,\n",
      "          70823.5391, 70822.3594],\n",
      "         ...,\n",
      "         [70814.1094, 70837.1875, 70856.2109,  ..., 70820.9062,\n",
      "          70837.9062, 70825.7031],\n",
      "         [70837.1875, 70856.2109, 70856.6328,  ..., 70837.9062,\n",
      "          70825.7031, 70834.5000],\n",
      "         [70856.2109, 70856.6328, 70840.4219,  ..., 70825.7031,\n",
      "          70834.5000, 70853.2891]],\n",
      "\n",
      "        ...,\n",
      "\n",
      "        [[64099.0000, 64156.9492, 64211.2891,  ..., 64179.1602,\n",
      "          64197.0000, 64199.0117],\n",
      "         [64156.9492, 64211.2891, 64164.9492,  ..., 64197.0000,\n",
      "          64199.0117, 64216.0000],\n",
      "         [64211.2891, 64164.9492, 64160.8516,  ..., 64199.0117,\n",
      "          64216.0000, 64192.2617],\n",
      "         ...,\n",
      "         [64224.8789, 64172.9805, 64198.0000,  ..., 64140.8906,\n",
      "          64168.0586, 64168.9883],\n",
      "         [64172.9805, 64198.0000, 64201.0000,  ..., 64168.0586,\n",
      "          64168.9883, 64156.0117],\n",
      "         [64198.0000, 64201.0000, 64234.0117,  ..., 64168.9883,\n",
      "          64156.0117, 64130.0000]],\n",
      "\n",
      "        [[64130.0000, 64116.9414, 64115.0000,  ..., 64066.0000,\n",
      "          64020.0898, 64027.8594],\n",
      "         [64116.9414, 64115.0000, 64142.0000,  ..., 64020.0898,\n",
      "          64027.8594, 64030.8906],\n",
      "         [64115.0000, 64142.0000, 64065.0000,  ..., 64027.8594,\n",
      "          64030.8906, 64062.3711],\n",
      "         ...,\n",
      "         [64018.2812, 63998.1289, 64007.0117,  ..., 64061.1719,\n",
      "          64086.9883, 64051.0000],\n",
      "         [63998.1289, 64007.0117, 64019.3086,  ..., 64086.9883,\n",
      "          64051.0000, 64066.0000],\n",
      "         [64007.0117, 64019.3086, 63982.0117,  ..., 64051.0000,\n",
      "          64066.0000, 64061.9883]],\n",
      "\n",
      "        [[63553.2109, 63553.2891, 63453.0000,  ..., 63744.0000,\n",
      "          63703.0000, 63665.2188],\n",
      "         [63553.2891, 63453.0000, 63421.9492,  ..., 63703.0000,\n",
      "          63665.2188, 63645.0117],\n",
      "         [63453.0000, 63421.9492, 63339.0000,  ..., 63665.2188,\n",
      "          63645.0117, 63689.0117],\n",
      "         ...,\n",
      "         [63287.7305, 63359.8008, 63419.5508,  ..., 63656.0000,\n",
      "          63588.7617, 63662.4805],\n",
      "         [63359.8008, 63419.5508, 63438.3516,  ..., 63588.7617,\n",
      "          63662.4805, 63678.0000],\n",
      "         [63419.5508, 63438.3516, 63541.2500,  ..., 63662.4805,\n",
      "          63678.0000, 63648.9883]]])\n",
      "tensor([[[66540.3359],\n",
      "         [66540.3359],\n",
      "         [66540.3359],\n",
      "         [66540.3359],\n",
      "         [66540.3359],\n",
      "         [66540.3359],\n",
      "         [66540.3359],\n",
      "         [66540.3359],\n",
      "         [66540.3359],\n",
      "         [66540.3359]]], grad_fn=<UnsqueezeBackward0>)\n"
     ]
    }
   ],
   "execution_count": 4
  },
  {
   "metadata": {
    "ExecuteTime": {
     "end_time": "2024-10-07T21:30:55.787533Z",
     "start_time": "2024-10-07T21:30:55.785766Z"
    }
   },
   "cell_type": "code",
   "source": "",
   "id": "33f1d03befb7337f",
   "outputs": [],
   "execution_count": null
  }
 ],
 "metadata": {
  "kernelspec": {
   "display_name": "Python 3",
   "language": "python",
   "name": "python3"
  },
  "language_info": {
   "codemirror_mode": {
    "name": "ipython",
    "version": 2
   },
   "file_extension": ".py",
   "mimetype": "text/x-python",
   "name": "python",
   "nbconvert_exporter": "python",
   "pygments_lexer": "ipython2",
   "version": "2.7.6"
  }
 },
 "nbformat": 4,
 "nbformat_minor": 5
}
